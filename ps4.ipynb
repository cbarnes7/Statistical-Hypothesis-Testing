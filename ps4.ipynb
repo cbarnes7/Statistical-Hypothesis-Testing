{
 "cells": [
  {
   "cell_type": "code",
   "execution_count": 1,
   "metadata": {},
   "outputs": [
    {
     "data": {
      "text/html": [
       "<div>\n",
       "<style scoped>\n",
       "    .dataframe tbody tr th:only-of-type {\n",
       "        vertical-align: middle;\n",
       "    }\n",
       "\n",
       "    .dataframe tbody tr th {\n",
       "        vertical-align: top;\n",
       "    }\n",
       "\n",
       "    .dataframe thead th {\n",
       "        text-align: right;\n",
       "    }\n",
       "</style>\n",
       "<table border=\"1\" class=\"dataframe\">\n",
       "  <thead>\n",
       "    <tr style=\"text-align: right;\">\n",
       "      <th></th>\n",
       "      <th>fheight</th>\n",
       "      <th>sheight</th>\n",
       "    </tr>\n",
       "  </thead>\n",
       "  <tbody>\n",
       "    <tr>\n",
       "      <th>0</th>\n",
       "      <td>165.2</td>\n",
       "      <td>151.8</td>\n",
       "    </tr>\n",
       "    <tr>\n",
       "      <th>1</th>\n",
       "      <td>160.7</td>\n",
       "      <td>160.6</td>\n",
       "    </tr>\n",
       "    <tr>\n",
       "      <th>2</th>\n",
       "      <td>165.0</td>\n",
       "      <td>160.9</td>\n",
       "    </tr>\n",
       "    <tr>\n",
       "      <th>3</th>\n",
       "      <td>167.0</td>\n",
       "      <td>159.5</td>\n",
       "    </tr>\n",
       "    <tr>\n",
       "      <th>4</th>\n",
       "      <td>155.3</td>\n",
       "      <td>163.3</td>\n",
       "    </tr>\n",
       "    <tr>\n",
       "      <th>...</th>\n",
       "      <td>...</td>\n",
       "      <td>...</td>\n",
       "    </tr>\n",
       "    <tr>\n",
       "      <th>1073</th>\n",
       "      <td>170.2</td>\n",
       "      <td>179.7</td>\n",
       "    </tr>\n",
       "    <tr>\n",
       "      <th>1074</th>\n",
       "      <td>181.2</td>\n",
       "      <td>173.4</td>\n",
       "    </tr>\n",
       "    <tr>\n",
       "      <th>1075</th>\n",
       "      <td>182.3</td>\n",
       "      <td>176.0</td>\n",
       "    </tr>\n",
       "    <tr>\n",
       "      <th>1076</th>\n",
       "      <td>179.7</td>\n",
       "      <td>176.0</td>\n",
       "    </tr>\n",
       "    <tr>\n",
       "      <th>1077</th>\n",
       "      <td>178.6</td>\n",
       "      <td>170.2</td>\n",
       "    </tr>\n",
       "  </tbody>\n",
       "</table>\n",
       "<p>1078 rows × 2 columns</p>\n",
       "</div>"
      ],
      "text/plain": [
       "      fheight  sheight\n",
       "0       165.2    151.8\n",
       "1       160.7    160.6\n",
       "2       165.0    160.9\n",
       "3       167.0    159.5\n",
       "4       155.3    163.3\n",
       "...       ...      ...\n",
       "1073    170.2    179.7\n",
       "1074    181.2    173.4\n",
       "1075    182.3    176.0\n",
       "1076    179.7    176.0\n",
       "1077    178.6    170.2\n",
       "\n",
       "[1078 rows x 2 columns]"
      ]
     },
     "execution_count": 1,
     "metadata": {},
     "output_type": "execute_result"
    }
   ],
   "source": [
    "import pandas as pd\n",
    "import matplotlib.pyplot as plt\n",
    "import numpy as np\n",
    "#loading the data\n",
    "fs = pd.read_csv('/Users/ceciliabarnes/Documents/INFO 370/fatherson.csv', delim_whitespace=True)\n",
    "fs"
   ]
  },
  {
   "cell_type": "code",
   "execution_count": 4,
   "metadata": {},
   "outputs": [
    {
     "data": {
      "text/plain": [
       "(1078, 2)"
      ]
     },
     "execution_count": 4,
     "metadata": {},
     "output_type": "execute_result"
    }
   ],
   "source": [
    "fs.shape"
   ]
  },
  {
   "cell_type": "code",
   "execution_count": 6,
   "metadata": {},
   "outputs": [
    {
     "data": {
      "text/plain": [
       "fheight    0\n",
       "sheight    0\n",
       "dtype: int64"
      ]
     },
     "execution_count": 6,
     "metadata": {},
     "output_type": "execute_result"
    }
   ],
   "source": [
    "fs.isnull().sum()"
   ]
  },
  {
   "cell_type": "markdown",
   "metadata": {},
   "source": [
    "### 1. \n",
    "There are two columns, father and son height, and 1077 rows of data and no null values in either column."
   ]
  },
  {
   "cell_type": "code",
   "execution_count": 7,
   "metadata": {},
   "outputs": [],
   "source": [
    "father = fs.fheight\n",
    "son = fs.sheight"
   ]
  },
  {
   "cell_type": "code",
   "execution_count": 14,
   "metadata": {},
   "outputs": [
    {
     "data": {
      "text/plain": [
       "(171.92523191094622, 172.1, 6.972345805242013, 149.9, 191.6)"
      ]
     },
     "execution_count": 14,
     "metadata": {},
     "output_type": "execute_result"
    }
   ],
   "source": [
    "# getting basic stats for fathers\n",
    "father.mean(), father.median(), father.std(), father.min(), father.max()"
   ]
  },
  {
   "cell_type": "code",
   "execution_count": 18,
   "metadata": {},
   "outputs": [
    {
     "data": {
      "text/plain": [
       "(174.45723562152145, 174.3, 7.150713294127493, 148.6, 199.0)"
      ]
     },
     "execution_count": 18,
     "metadata": {},
     "output_type": "execute_result"
    }
   ],
   "source": [
    "# getting basic stats for sons\n",
    "son.mean(), son.median(), son.std(), son.min(), son.max()"
   ]
  },
  {
   "cell_type": "markdown",
   "metadata": {},
   "source": [
    "### 2. \n",
    "Based on these figures, the son's are taller. They have a higher mean, median, and max."
   ]
  },
  {
   "cell_type": "code",
   "execution_count": 66,
   "metadata": {},
   "outputs": [
    {
     "data": {
      "text/plain": [
       "2.532003710575225"
      ]
     },
     "execution_count": 66,
     "metadata": {},
     "output_type": "execute_result"
    }
   ],
   "source": [
    "son.mean() - father.mean() # computing mean difference"
   ]
  },
  {
   "cell_type": "code",
   "execution_count": 22,
   "metadata": {},
   "outputs": [
    {
     "data": {
      "image/png": "[encoded data removed]",
      "text/plain": [
       "<Figure size 432x288 with 1 Axes>"
      ]
     },
     "metadata": {
      "needs_background": "light"
     },
     "output_type": "display_data"
    }
   ],
   "source": [
    "# histogram of father's heights\n",
    "_ = plt.hist(father)"
   ]
  },
  {
   "cell_type": "code",
   "execution_count": 23,
   "metadata": {},
   "outputs": [
    {
     "data": {
      "image/png": "[encoded data removed]",
      "text/plain": [
       "<Figure size 432x288 with 1 Axes>"
      ]
     },
     "metadata": {
      "needs_background": "light"
     },
     "output_type": "display_data"
    }
   ],
   "source": [
    "# histogram of son's heights\n",
    "_ = plt.hist(son)"
   ]
  },
  {
   "cell_type": "markdown",
   "metadata": {},
   "source": [
    "### 3. \n",
    "Both the father and the son histograms resemble a normal distribution, while the father's histogram is a little bit more distributed than the son's histogram which is narrower and taller in the middle.\n",
    "\n",
    "### 4."
   ]
  },
  {
   "cell_type": "code",
   "execution_count": 34,
   "metadata": {},
   "outputs": [],
   "source": [
    "# h0: there is no real difference between fathers and sons\n",
    "f_and_s = pd.concat([father, son]) # combining son and father data\n",
    "mean = f_and_s.mean() # getting mean of combined data\n",
    "std = f_and_s.std() # getting std of combined data"
   ]
  },
  {
   "cell_type": "markdown",
   "metadata": {},
   "source": [
    "### 5."
   ]
  },
  {
   "cell_type": "code",
   "execution_count": 31,
   "metadata": {},
   "outputs": [
    {
     "data": {
      "text/plain": [
       "(173.17373897925947, 173.47288120005368)"
      ]
     },
     "execution_count": 31,
     "metadata": {},
     "output_type": "execute_result"
    }
   ],
   "source": [
    "# simulated fathers and sons\n",
    "# use same mean and std because the claim is that they have equal means \n",
    "# --> comes from our null hypothesis\n",
    "simF = np.random.normal(mean, std, size=1077) # simulating fathers\n",
    "simS = np.random.normal(mean, std, size=1077) # simulating sons\n",
    "(simF.mean(), simS.mean()) # printing out mean of simulated father and son"
   ]
  },
  {
   "cell_type": "code",
   "execution_count": 35,
   "metadata": {},
   "outputs": [
    {
     "data": {
      "text/plain": [
       "-0.2991422207942094"
      ]
     },
     "execution_count": 35,
     "metadata": {},
     "output_type": "execute_result"
    }
   ],
   "source": [
    "# getting the difference in average simulated father and son\n",
    "simF.mean() - simS.mean()"
   ]
  },
  {
   "cell_type": "code",
   "execution_count": 36,
   "metadata": {},
   "outputs": [],
   "source": [
    "# the difference in the simulated mean, .299, is much smaller than the difference in the true data's mean, 2.53/"
   ]
  },
  {
   "cell_type": "markdown",
   "metadata": {},
   "source": [
    "### 6."
   ]
  },
  {
   "cell_type": "code",
   "execution_count": 39,
   "metadata": {},
   "outputs": [
    {
     "data": {
      "text/plain": [
       "array([ 6.10480496e-01, -3.25979342e-01, -1.44446000e-01,  1.98067386e-02,\n",
       "        3.24376571e-01,  1.09627745e-02,  1.17191698e-01,  3.15749667e-02,\n",
       "        8.63555805e-02, -3.95029972e-01, -7.71670737e-03, -4.46641823e-01,\n",
       "       -2.16652896e-02, -8.05643130e-02, -1.20206784e-01,  2.01281622e-01,\n",
       "        1.86048960e-01,  4.10422293e-01, -2.24833001e-01,  7.48836261e-02,\n",
       "       -4.80213021e-01,  3.88264023e-02,  1.06851240e-01, -3.48450794e-01,\n",
       "       -1.00750537e-01, -2.88951491e-01, -1.42136398e-01, -7.90116349e-02,\n",
       "        3.18475468e-02, -6.75374849e-02, -1.05005828e-01,  4.03420500e-02,\n",
       "        1.76885178e-01, -2.37889337e-01,  5.38314103e-01, -5.22641092e-02,\n",
       "        4.33410467e-02, -2.82909298e-01, -6.34749410e-01, -2.31723839e-01,\n",
       "        2.08872642e-01, -1.50615158e-01, -8.89994241e-02, -7.10130494e-02,\n",
       "       -1.56514923e-03,  2.91071484e-01, -3.28215921e-01,  1.47356183e-01,\n",
       "        6.52079414e-01, -7.14825587e-02,  4.52453879e-03, -3.09560456e-01,\n",
       "       -1.97949948e-01, -2.30880273e-01, -5.01825522e-01,  1.52161855e-01,\n",
       "       -2.70153468e-01,  3.42477798e-01, -1.52086971e-01, -2.76774645e-01,\n",
       "        5.61346248e-02, -3.70902822e-01, -1.66318674e-01, -3.57674658e-01,\n",
       "       -5.38205374e-01,  1.06508123e-01,  3.59436574e-01,  7.45995179e-02,\n",
       "        1.74235499e-01, -3.17954520e-01,  6.33778826e-02, -3.88203523e-02,\n",
       "       -4.90732463e-02,  6.40589138e-02, -1.59165899e-01, -6.22413377e-02,\n",
       "        3.35828682e-01, -5.04398146e-01,  5.20294970e-02,  1.38218457e-01,\n",
       "       -2.25073820e-01, -2.11071641e-01, -2.18097438e-01,  2.03135567e-02,\n",
       "        3.81135675e-01, -1.51804650e-01, -2.21471175e-01, -2.33330703e-01,\n",
       "       -3.93334991e-01,  2.78842462e-01,  1.42573714e-01,  2.90061623e-01,\n",
       "       -1.83374652e-01,  5.61244841e-01, -2.24774089e-02, -1.12544274e-01,\n",
       "        1.84542951e-01, -1.28100819e-01,  1.88963468e-01,  1.69889499e-01,\n",
       "        2.23611998e-01,  9.41415033e-02,  3.24192121e-01, -1.41684790e-01,\n",
       "       -2.25965685e-01,  4.28019333e-01, -9.12648857e-02, -1.05823849e-01,\n",
       "       -1.94909284e-01, -1.22869526e-01, -2.16814426e-02,  3.30470834e-01,\n",
       "        1.71629678e-01, -1.54745061e-01, -6.97388006e-02, -6.56661431e-02,\n",
       "        2.26619048e-01, -6.64489767e-02,  1.34485430e-01, -4.90240434e-01,\n",
       "        4.71277653e-02,  8.73924732e-02, -5.00807651e-02, -2.38328476e-01,\n",
       "        4.45721381e-01,  3.32814481e-02, -2.27815360e-01, -3.71842463e-01,\n",
       "        1.57375539e-01,  2.98605440e-01, -3.01655417e-01,  3.32930448e-01,\n",
       "       -2.50681928e-01,  1.26561680e-02,  7.62240223e-02,  8.54076946e-02,\n",
       "        3.16687451e-01, -3.36380491e-02, -1.49641660e-01,  2.54897681e-01,\n",
       "       -8.92797623e-02,  6.19351791e-01,  1.11568969e-01, -1.62326396e-01,\n",
       "       -6.99833943e-01, -2.44256684e-01,  1.43986867e-01, -6.92944067e-02,\n",
       "       -4.69295004e-01,  8.06751219e-01, -3.60597835e-01, -2.85293720e-01,\n",
       "       -3.26413686e-01,  4.21064874e-01, -2.98769205e-01,  2.17958666e-01,\n",
       "        4.48952334e-01, -6.18257040e-03,  1.60487993e-02,  6.60591089e-02,\n",
       "        5.72998937e-02,  1.43411258e-02,  1.43135160e-01, -3.35113542e-01,\n",
       "        5.59627072e-02, -9.39246777e-01, -1.61971207e-01, -2.63528628e-02,\n",
       "       -1.35424663e-01, -1.07189717e-01, -1.39062141e-01, -3.62217200e-01,\n",
       "        1.56466711e-03, -4.28940950e-01,  2.45612761e-01, -1.07437302e-01,\n",
       "        8.77939195e-03,  5.66862437e-01,  6.08784828e-01,  1.66308232e-01,\n",
       "        4.39372778e-01, -8.33018064e-02,  1.16477582e-01, -4.51545249e-01,\n",
       "        1.45796958e-01, -3.36446085e-01,  6.50499674e-02,  1.64293943e-01,\n",
       "       -3.45910819e-01,  8.22068345e-02, -4.89999469e-02, -5.06561847e-02,\n",
       "        7.09181370e-02, -1.64542297e-01,  2.53706988e-01,  1.72039772e-02,\n",
       "        3.69496140e-01,  3.90970810e-01,  5.34502575e-01,  2.07549325e-01,\n",
       "       -1.81359722e-02, -3.51562871e-02,  2.24689349e-01,  2.61203223e-01,\n",
       "        4.48591313e-01, -1.92761941e-01,  2.95056742e-01, -8.06341080e-02,\n",
       "       -3.00558535e-01,  3.41353628e-01, -3.18621436e-02,  1.69940418e-01,\n",
       "        4.17994399e-01, -1.10039513e-02,  2.01966666e-01,  2.81991980e-01,\n",
       "        3.19342904e-01, -7.74842958e-01,  1.47889021e-02, -4.15552657e-01,\n",
       "        3.46885322e-01, -1.37648731e-01, -7.00457752e-01,  2.15505806e-01,\n",
       "       -6.25168459e-01, -1.58855084e-02,  2.03173252e-01,  3.20554355e-01,\n",
       "        2.85560684e-01, -1.99796432e-01,  4.59567501e-01, -1.96478823e-01,\n",
       "        1.25959061e-01,  2.04947634e-01,  1.19573690e-01, -4.27908387e-01,\n",
       "       -2.80320870e-01,  2.63627903e-01,  1.56745208e-01, -1.03362911e-02,\n",
       "        3.00993058e-01, -5.17141286e-02,  4.49953640e-01,  3.19262006e-01,\n",
       "       -2.92964313e-01,  4.85524700e-01,  1.93325479e-02,  4.63436716e-01,\n",
       "       -1.38268566e-01,  1.06166005e-01, -3.05474870e-01, -3.81197760e-01,\n",
       "       -2.70129548e-01,  4.31394023e-01, -3.44627758e-01, -3.15540850e-01,\n",
       "       -3.88226980e-01,  2.80068657e-01, -4.05378289e-01, -3.94909981e-01,\n",
       "       -1.90905887e-01, -2.49780660e-02,  2.68258386e-01,  1.10368665e-01,\n",
       "       -1.30532064e-01,  2.88269050e-01, -2.56022920e-01,  3.59974590e-01,\n",
       "        2.98230655e-02,  1.71107822e-01,  4.70692356e-01,  2.98158129e-01,\n",
       "        1.16710386e-01, -5.31595850e-02, -3.34537966e-01,  2.47418195e-01,\n",
       "       -5.25666403e-02,  9.82459511e-02,  6.46756911e-02, -3.44406103e-02,\n",
       "        2.30800096e-01,  6.06616871e-02, -6.34504006e-02,  3.18485347e-02,\n",
       "       -3.27189040e-01,  6.04306566e-01, -4.72253205e-01, -3.48098863e-01,\n",
       "        6.66607226e-01,  3.60726929e-03, -4.70071815e-01, -2.53269461e-01,\n",
       "       -1.88119586e-01, -1.99246911e-01, -5.04730848e-01,  2.15124875e-01,\n",
       "        2.66855820e-01,  5.95106508e-02,  2.61112552e-02, -2.19171524e-01,\n",
       "        1.77353950e-01,  3.71752869e-01, -2.40132931e-01, -2.62023471e-01,\n",
       "       -7.05135345e-02, -3.12923511e-01, -5.75341711e-01,  4.64529841e-01,\n",
       "       -1.23643024e-01,  2.47200965e-02, -2.07217215e-01,  1.09104793e-01,\n",
       "        6.41674594e-01,  7.60363215e-02,  5.23997963e-01, -1.01045980e-02,\n",
       "       -9.58787143e-02,  4.00224672e-02, -2.95473965e-02, -2.83022044e-01,\n",
       "        3.84182308e-01, -2.38115793e-01,  4.01048018e-01, -1.33017641e-01,\n",
       "        3.66005273e-01, -5.53507235e-01,  3.60798426e-01, -1.36925777e-02,\n",
       "       -2.41453454e-01, -2.23242768e-01, -3.00969700e-01, -2.77773079e-01,\n",
       "       -1.85890227e-01, -2.04019078e-01, -3.53770674e-01,  1.83607371e-01,\n",
       "        6.89084996e-02,  1.15847230e-01,  1.83251162e-01,  3.42756444e-01,\n",
       "        6.29671082e-01,  1.44018287e-01, -2.63816062e-01, -2.58768026e-01,\n",
       "       -3.37432058e-01,  3.19799861e-01, -1.69898343e-01, -9.68285509e-02,\n",
       "       -1.26456321e-02,  2.94414052e-01, -1.55619740e-01, -9.85996997e-03,\n",
       "       -1.29408410e-01, -1.12919575e-01, -4.82028921e-01,  1.05925167e-01,\n",
       "        3.81077884e-01,  6.44043833e-02, -3.62096319e-01, -1.54555147e-01,\n",
       "       -4.37475081e-01, -4.35815165e-01,  5.37182385e-01,  1.06080242e-01,\n",
       "       -2.12940306e-01,  1.97274824e-01, -1.68638033e-01,  9.33110865e-02,\n",
       "        4.80317853e-01,  1.44302770e-01,  1.12932430e-01, -2.48012525e-01,\n",
       "        1.66571585e-01,  1.34781655e-01, -2.76034587e-01,  1.05269411e-01,\n",
       "        4.07013280e-01, -8.42505750e-02,  8.00997397e-02, -1.80378434e-01,\n",
       "        3.63116763e-01,  6.24026287e-01,  1.53200552e-02, -3.87277245e-01,\n",
       "        3.63132303e-01,  2.92019673e-01, -1.14200375e-01,  1.20502237e-01,\n",
       "       -2.30612908e-01,  4.05798248e-02, -2.64571564e-01,  4.16455060e-01,\n",
       "        3.27575880e-01, -1.56008925e-01, -2.80878951e-02,  6.56031663e-02,\n",
       "       -3.28992945e-01, -3.93977724e-01,  5.42754264e-01, -1.15898555e-01,\n",
       "        3.56872591e-01,  2.43476519e-01,  4.89565283e-01, -2.50859176e-01,\n",
       "        1.43265970e-01,  4.25690945e-01, -1.40333930e-01, -4.30561048e-01,\n",
       "        3.73478276e-01, -3.80914264e-01, -1.29850424e-01,  7.65849955e-02,\n",
       "       -3.58554838e-01,  3.89156981e-02,  1.49461157e-01,  3.38283352e-02,\n",
       "       -6.64422341e-02,  6.24624124e-01,  4.60564124e-01,  1.15005542e-01,\n",
       "       -2.23074543e-02, -2.85842429e-01,  6.59751961e-02,  1.50736142e-01,\n",
       "       -5.62140444e-01, -3.34924835e-02, -2.49451439e-01, -1.74970249e-01,\n",
       "       -8.79333379e-02,  7.40874566e-01,  2.92264128e-01, -7.55683726e-02,\n",
       "        1.94285272e-01,  6.76317484e-01,  4.93406066e-02, -4.33751977e-02,\n",
       "       -3.81745537e-01, -7.18032068e-03, -2.47119308e-01, -2.50648392e-01,\n",
       "       -1.54345316e-01,  2.32014022e-01,  2.30299828e-01, -2.74675895e-01,\n",
       "        3.31730069e-01, -2.22146960e-01,  7.12257390e-02, -1.32399909e-01,\n",
       "       -2.69802190e-01,  2.46500858e-01, -9.16099653e-02, -5.23538613e-01,\n",
       "       -1.13338659e-01, -2.34508756e-01, -1.28602449e-01, -9.03591802e-02,\n",
       "       -1.96821228e-01,  8.02560068e-01, -5.70521138e-01,  8.89776516e-01,\n",
       "        3.34135609e-01, -4.18681486e-02,  1.40506376e-01,  2.08646853e-02,\n",
       "       -1.03980285e-01, -6.60825344e-02,  3.48933882e-02, -1.56332656e-01,\n",
       "        2.02255521e-01, -1.26530462e-03,  5.08056307e-01,  3.61395705e-01,\n",
       "        1.43659559e-01, -4.25640172e-01, -1.20361565e-01,  2.88296180e-01,\n",
       "        4.28837030e-01, -1.58592268e-01,  9.25548617e-02, -3.36527288e-01,\n",
       "       -2.37858607e-01, -2.46129796e-01,  4.50191578e-01, -8.12040704e-02,\n",
       "       -6.61588689e-03, -3.87260859e-01, -1.20311709e-01, -7.47365020e-02,\n",
       "        1.30909704e-01, -5.75558038e-01, -9.39255011e-02, -1.15800709e-01,\n",
       "        2.94827452e-02, -6.66760108e-02,  2.46634622e-01,  8.65913432e-01,\n",
       "       -1.06142901e+00,  3.72428477e-01,  1.77648148e-01,  6.49961077e-01,\n",
       "       -1.01861504e-01, -1.84495982e-01,  9.79549039e-02,  5.40737827e-01,\n",
       "       -6.88497965e-01,  4.73347092e-02,  4.56916717e-02,  2.67026205e-02,\n",
       "       -4.79280393e-01, -4.00918770e-01, -4.70464165e-01,  8.17664995e-02,\n",
       "        1.02838557e-02,  5.22217492e-02,  1.16304057e-01,  2.60689437e-01,\n",
       "        2.66139132e-01,  5.39681550e-01,  2.77859821e-01, -2.40824457e-01,\n",
       "        6.37853385e-02,  1.18523332e-02,  3.60839053e-01, -1.18530845e-01,\n",
       "        4.38653988e-01, -3.16245476e-01,  3.90068630e-02,  1.03721304e-01,\n",
       "        9.76793960e-02, -1.08948688e-01,  1.29528070e-01,  9.95570347e-02,\n",
       "        4.12481767e-01, -4.42816663e-01,  1.38472129e-01, -4.07043745e-02,\n",
       "        1.68258971e-01, -4.04404286e-01,  1.22717484e-01,  8.67879619e-02,\n",
       "        3.95859659e-01, -1.06327258e-01,  4.34767182e-01, -5.71172223e-01,\n",
       "       -3.77099131e-02, -8.53384898e-02, -1.30087100e-01,  4.27697353e-01,\n",
       "       -1.46868406e-01,  2.46361374e-01,  2.65661425e-01,  1.36957116e-01,\n",
       "       -1.77791655e-01, -1.09488143e-01,  2.86682486e-01,  7.07825883e-02,\n",
       "       -5.40678725e-01,  3.72904427e-01, -9.60810646e-01,  1.42809865e-01,\n",
       "       -1.65638365e-01,  1.53855063e-01,  3.62243463e-01,  5.30700677e-02,\n",
       "       -5.27848364e-01,  1.48128988e-01, -5.88597267e-02, -1.78843234e-01,\n",
       "        6.05239660e-01,  2.39369912e-01, -2.37150920e-01, -2.83256712e-01,\n",
       "        2.45731964e-01, -1.60983707e-01,  3.59545240e-01, -2.29794666e-01,\n",
       "       -3.69921537e-02, -1.55486950e-01, -5.20677061e-01,  1.54185597e-01,\n",
       "        3.05162334e-01,  2.31672797e-01, -6.42970236e-05,  3.44740461e-01,\n",
       "        1.78878240e-01,  2.20751986e-01, -5.63698098e-01,  3.93814192e-01,\n",
       "        3.66707323e-01, -5.53669237e-01,  3.69510322e-01, -2.20681763e-01,\n",
       "        2.31796420e-01, -2.17641455e-01,  4.04355066e-01,  6.05887257e-01,\n",
       "        7.55834479e-02,  3.18485983e-01,  7.17887279e-02,  6.22976536e-02,\n",
       "        3.29297424e-01,  2.02177106e-01,  1.96351001e-01,  3.03436351e-01,\n",
       "       -1.50534443e-01, -3.50801681e-01, -3.63621595e-01, -4.39785919e-01,\n",
       "       -5.49258803e-02,  8.24691034e-02,  1.78698597e-01,  5.65822179e-03,\n",
       "        6.33144415e-02,  4.55874449e-02, -5.76845050e-02,  2.40630326e-01,\n",
       "       -3.24282962e-01,  2.31544694e-02,  1.72374041e-01, -2.95385001e-01,\n",
       "       -3.51256123e-01, -7.25616558e-02, -5.56599135e-01,  4.12043497e-02,\n",
       "        5.14878384e-02,  5.11266774e-01, -5.18299262e-02,  2.03940540e-01,\n",
       "        2.61061233e-01, -1.35951568e-02,  4.55244243e-02, -3.27185577e-01,\n",
       "       -2.90789037e-01,  6.00516740e-01, -4.21551080e-02,  1.27099684e-02,\n",
       "       -2.43098264e-01,  5.77611029e-01,  5.25703600e-01,  1.59712568e-02,\n",
       "        3.57730704e-02, -1.84307721e-01,  5.42456691e-02, -1.75672557e-01,\n",
       "       -1.64529355e-01,  2.50875892e-01,  4.12302609e-01,  4.69928567e-02,\n",
       "        6.30292104e-01, -4.47744460e-01, -1.73537064e-02, -7.31861280e-02,\n",
       "        1.25445054e-01,  4.44307706e-01,  1.55829467e-01, -5.04905165e-02,\n",
       "        3.35994096e-01,  1.93162850e-01,  6.11171819e-01,  8.09015374e-02,\n",
       "        3.56017364e-01,  1.03554459e-02, -2.42934800e-01, -5.33811048e-02,\n",
       "       -1.58145633e-01,  5.09355449e-01, -3.10148910e-01,  2.11246280e-01,\n",
       "       -2.60569108e-01, -1.81900337e-01, -4.39590318e-01, -2.16617610e-01,\n",
       "       -1.89483340e-01, -2.72290320e-01,  1.62234241e-02, -1.03421145e-02,\n",
       "        3.08797990e-01, -6.00174383e-01,  2.34536012e-01, -1.94989576e-01,\n",
       "        3.47834655e-01, -5.53306498e-02, -1.83852572e-01,  2.17669047e-01,\n",
       "       -4.32399470e-01,  2.78121055e-01, -1.24396644e-01, -3.83532105e-01,\n",
       "        3.77355761e-01, -6.32683943e-01,  3.11755426e-01, -1.70468886e-01,\n",
       "       -3.28473683e-01,  2.08628148e-02,  3.01558154e-01,  5.42458242e-01,\n",
       "       -2.61942090e-01, -9.00312895e-02,  2.50104955e-01, -4.23675391e-01,\n",
       "       -1.42541145e-01,  9.00978509e-02, -4.01611667e-01, -1.20488304e-01,\n",
       "       -1.67796273e-01,  5.58596021e-01,  1.45331063e-01, -2.07924177e-01,\n",
       "        1.10109910e-02, -4.32169147e-01,  5.34283525e-01, -3.56669769e-02,\n",
       "       -8.74531800e-02,  2.50852960e-01, -1.59973910e-01, -1.82387697e-01,\n",
       "       -6.66819260e-02, -2.33365722e-01, -2.23848491e-01, -1.24971113e-01,\n",
       "       -3.98451240e-01,  1.38563317e-02,  1.88425853e-01,  9.10212878e-02,\n",
       "        3.61436734e-01,  1.49729760e-01,  4.38649351e-01,  2.35741595e-01,\n",
       "        3.21103127e-02, -2.68195675e-02, -1.38356721e-01, -1.37651772e-01,\n",
       "       -5.03810896e-01,  2.07812890e-01,  1.01883094e-01,  4.64338274e-01,\n",
       "        1.74512502e-02,  2.85600754e-02, -1.65120401e-01, -4.25065007e-01,\n",
       "       -2.22236640e-01,  3.00537828e-01,  3.92819424e-01, -3.95934490e-01,\n",
       "       -1.59254413e-01,  3.10834824e-01, -1.27891854e-01, -4.29460898e-03,\n",
       "        1.99456737e-01, -8.16377606e-02,  1.15294136e-01, -2.95500017e-01,\n",
       "       -7.94803490e-01, -8.75423402e-01, -3.85166419e-01,  5.81171869e-01,\n",
       "       -6.50859788e-02,  2.58103663e-01, -2.31110887e-01,  7.27186787e-01,\n",
       "       -5.94656571e-01,  8.02404188e-02, -4.44672104e-01,  5.83355635e-02,\n",
       "       -3.24087152e-02, -6.13007630e-01, -3.45515612e-01,  1.58250486e-01,\n",
       "        1.72568001e-01,  4.97868763e-01,  2.10780081e-01,  1.19017816e-02,\n",
       "       -6.99347784e-02, -1.63180909e-01, -7.09028681e-02, -2.46020110e-01,\n",
       "       -3.41729147e-01,  4.07418547e-01,  5.97973356e-02, -1.32494994e-01,\n",
       "       -3.92269455e-01, -4.47557463e-01, -3.58397073e-02, -2.10327040e-01,\n",
       "        1.54429579e-01,  1.24862024e-01,  8.17654892e-01,  4.04716330e-01,\n",
       "       -4.04116075e-02, -1.07419712e-01, -1.47214824e-01, -4.47274060e-02,\n",
       "        2.31546515e-01, -2.26643781e-01,  1.35816323e-01, -6.15045127e-01,\n",
       "        1.23682513e-01,  3.72500339e-01, -1.08381633e-01,  2.51971551e-01,\n",
       "       -3.79748024e-01,  8.02628978e-02,  7.63781424e-01,  1.04566176e-01,\n",
       "       -4.76748525e-01,  5.38303138e-01, -2.00459104e-03,  3.24732195e-01,\n",
       "       -8.61262385e-02,  2.50254122e-01, -1.90146267e-01,  1.83999622e-01,\n",
       "       -4.99350965e-01,  4.47165142e-01,  2.13714458e-02, -9.83756882e-02,\n",
       "       -4.92863658e-02, -1.10443667e-01, -1.83334307e-01, -2.26916658e-01,\n",
       "        3.69233351e-01, -7.72473136e-01,  1.98718910e-01,  1.82578036e-02,\n",
       "        1.64682694e-01,  4.52570912e-01,  4.37164775e-01, -9.72279382e-02,\n",
       "       -2.04403302e-01, -1.94775734e-01, -1.95430556e-01,  1.00719162e-01,\n",
       "        1.42860045e-01,  3.79656931e-01,  2.08931161e-01,  5.65727816e-01,\n",
       "       -9.05933488e-02,  2.49629746e-01,  2.39529920e-01,  2.46975349e-01,\n",
       "        3.16189019e-01,  4.60119999e-03, -2.36795537e-01,  3.55762948e-01,\n",
       "        4.30613794e-01,  3.83275641e-01,  8.93842175e-01, -2.20327949e-01,\n",
       "       -3.51367406e-01, -1.07710176e-01, -1.00157618e-01, -2.16747328e-01,\n",
       "       -6.17650641e-01,  2.44490060e-01,  2.58143979e-01,  3.73114699e-01,\n",
       "        1.31154371e-01, -7.72332252e-02,  4.57130689e-01, -3.38609789e-01,\n",
       "       -1.74677868e-01, -6.53685207e-02,  4.06017649e-01,  3.57294636e-01,\n",
       "       -2.99189925e-01, -7.97725598e-02, -3.82668780e-01,  4.57383361e-01,\n",
       "       -5.52949796e-02,  2.09853445e-02,  9.92756948e-02, -5.82619908e-01,\n",
       "       -3.74267815e-01, -5.88782781e-02,  6.97397373e-01, -2.18446261e-01,\n",
       "       -1.76329979e-01, -6.95438249e-02, -2.22704113e-01,  1.53690550e-01,\n",
       "       -9.84576393e-02, -7.67219422e-02,  3.17072669e-01,  5.45004753e-02,\n",
       "       -3.64473996e-01, -1.65639867e-02,  2.88963965e-01, -5.98380902e-02,\n",
       "        2.24793352e-01,  4.57181796e-01, -1.36045030e-01, -2.42945866e-02,\n",
       "        1.71216257e-01, -8.02913098e-02, -7.14655086e-01, -3.08639516e-01,\n",
       "        4.63909521e-01,  7.38545382e-02,  3.73736353e-01, -2.93484023e-02,\n",
       "       -2.08378553e-01,  6.84450814e-01,  1.15336767e-01, -4.86512912e-01,\n",
       "       -2.65061126e-01, -2.78464706e-01,  2.21550509e-01,  1.78485367e-01,\n",
       "        4.20815846e-01, -1.22837401e-01,  9.13584294e-02,  1.02983341e-02,\n",
       "        1.44199126e-01,  4.16690227e-01,  3.46586237e-02,  3.75641641e-01,\n",
       "       -1.52159874e-01,  2.35338117e-01, -1.66957847e-01,  1.40133050e-01,\n",
       "       -2.78277998e-01, -1.36388360e-01, -4.98590374e-02, -2.15408137e-03,\n",
       "        3.03826447e-01, -4.64880199e-02, -3.07169574e-01,  6.52570571e-01,\n",
       "       -5.35380943e-01, -2.62183687e-01, -3.91530408e-01, -1.59535341e-01,\n",
       "       -2.15560396e-01,  4.92190572e-01,  5.80237387e-01, -7.21007528e-02,\n",
       "        1.77882527e-01,  3.13366231e-01, -3.44457564e-01,  2.19066704e-01,\n",
       "       -4.13467233e-01, -5.18099304e-01,  3.91942093e-01, -5.56240152e-02,\n",
       "       -3.58377966e-01,  1.58602586e-01,  5.95893809e-01, -5.06238305e-01,\n",
       "       -3.45431371e-01, -3.07136220e-01,  1.75776379e-01,  1.75473541e-01,\n",
       "        9.89859111e-02, -3.25278039e-01, -1.34159599e-01,  5.57987626e-01,\n",
       "        1.08615005e-01,  1.71380608e-01, -6.94438166e-02, -3.21225885e-02,\n",
       "        5.00193364e-01,  3.21035183e-01, -2.04299707e-01, -3.33612735e-01,\n",
       "       -3.68340481e-02, -3.96236055e-01, -4.71815035e-01, -3.70288590e-01,\n",
       "        8.48381122e-02,  7.73869663e-02, -2.51543580e-01,  5.53508395e-02,\n",
       "        3.49425122e-01, -7.13667070e-03,  5.73193960e-01,  1.35448133e-01,\n",
       "       -1.96116106e-01,  2.67950873e-01,  9.79220049e-02,  3.88263434e-01,\n",
       "        1.06478298e-01,  4.49141616e-02,  6.38216126e-01,  4.55899744e-01,\n",
       "       -3.39129344e-01, -2.36136483e-01,  1.37810643e-01, -2.08207639e-01,\n",
       "       -1.42234738e-01, -7.60856728e-02,  5.18794919e-01, -5.35224438e-01,\n",
       "       -1.52707569e-01, -2.61627342e-01,  3.19948564e-01,  1.98943127e-01,\n",
       "        3.14466720e-01, -1.70992383e-01, -5.14224223e-02, -3.38617361e-02])"
      ]
     },
     "execution_count": 39,
     "metadata": {},
     "output_type": "execute_result"
    }
   ],
   "source": [
    "R = 1000 # setting number of repetitions\n",
    "diffs = np.empty(1000) # making empty array to hold mean differences\n",
    "for i in range(R):\n",
    "    simF = np.random.normal(mean, std, size=1077) # simulating fathers\n",
    "    simS = np.random.normal(mean, std, size=1077) # simulating sons\n",
    "    diffs[i] = simF.mean() - simS.mean() # adding the mean difference to the array\n",
    "diffs"
   ]
  },
  {
   "cell_type": "markdown",
   "metadata": {},
   "source": [
    "### 7."
   ]
  },
  {
   "cell_type": "code",
   "execution_count": 40,
   "metadata": {},
   "outputs": [
    {
     "data": {
      "text/plain": [
       "0.00964048965967234"
      ]
     },
     "execution_count": 40,
     "metadata": {},
     "output_type": "execute_result"
    }
   ],
   "source": [
    "diffs.mean()"
   ]
  },
  {
   "cell_type": "markdown",
   "metadata": {},
   "source": [
    "The mean of the mean differences is close to 0 because of the Central Limit Theorem.\n",
    "\n",
    "### 8."
   ]
  },
  {
   "cell_type": "code",
   "execution_count": 41,
   "metadata": {},
   "outputs": [
    {
     "data": {
      "text/plain": [
       "0.8938421754755836"
      ]
     },
     "execution_count": 41,
     "metadata": {},
     "output_type": "execute_result"
    }
   ],
   "source": [
    "# getting largest mean difference in the sample\n",
    "np.abs(diffs.max())"
   ]
  },
  {
   "cell_type": "markdown",
   "metadata": {},
   "source": [
    "The largest mean difference in absolute value in the sample is .89.\n",
    "\n",
    "### 9."
   ]
  },
  {
   "cell_type": "code",
   "execution_count": 42,
   "metadata": {},
   "outputs": [
    {
     "data": {
      "text/plain": [
       "array([-0.56217939,  0.60882722])"
      ]
     },
     "execution_count": 42,
     "metadata": {},
     "output_type": "execute_result"
    }
   ],
   "source": [
    "np.percentile(diffs, [2.5,97.5])"
   ]
  },
  {
   "cell_type": "markdown",
   "metadata": {},
   "source": [
    "2.53 cm in favor of sons does not fall into the CI of [-.56, .60], in fact, it falls way outside of the CI.\n",
    "\n",
    "### 10. \n",
    "The upper limit is over 4 times smaller than the mean difference, showing that the, so we will reject the hypothesis as the claim that there is no difference between father and son height is not consistent with our data. Sons are really taller than fathers.\n",
    "\n",
    "## Now repeat with t-test\n",
    "### 1."
   ]
  },
  {
   "cell_type": "code",
   "execution_count": 58,
   "metadata": {},
   "outputs": [
    {
     "data": {
      "text/plain": [
       "0.3042615915016852"
      ]
     },
     "execution_count": 58,
     "metadata": {},
     "output_type": "execute_result"
    }
   ],
   "source": [
    "SE = np.sqrt((6.97**2 / 1077) + (7.15**2 / 1077)) \n",
    "SE"
   ]
  },
  {
   "cell_type": "markdown",
   "metadata": {},
   "source": [
    "### 2.\n",
    "alpha = .05\\\n",
    "degrees of freedom = n - 1 = 1076 = inf"
   ]
  },
  {
   "cell_type": "code",
   "execution_count": 67,
   "metadata": {},
   "outputs": [
    {
     "data": {
      "text/plain": [
       "2.532003710575225"
      ]
     },
     "execution_count": 67,
     "metadata": {},
     "output_type": "execute_result"
    }
   ],
   "source": [
    "mean = son.mean() - father.mean()\n",
    "mean"
   ]
  },
  {
   "cell_type": "code",
   "execution_count": 64,
   "metadata": {},
   "outputs": [],
   "source": [
    "# getting lower and upper bound\n",
    "lower = mean - 1.96 * SE\n",
    "upper = mean + 1.96 * SE"
   ]
  },
  {
   "cell_type": "code",
   "execution_count": 65,
   "metadata": {},
   "outputs": [
    {
     "data": {
      "text/plain": [
       "(1.935650991231922, 3.1283564299185276)"
      ]
     },
     "execution_count": 65,
     "metadata": {},
     "output_type": "execute_result"
    }
   ],
   "source": [
    "# confidence interval\n",
    "lower, upper"
   ]
  },
  {
   "cell_type": "markdown",
   "metadata": {},
   "source": [
    "### 3.\n",
    "We will reject the hypothesis at the 5% confidence level because a mean difference of 0 does not fall within the CI which means it is unlikely that we will see no difference in our real data.\n",
    "\n",
    "### 4."
   ]
  },
  {
   "cell_type": "code",
   "execution_count": 69,
   "metadata": {},
   "outputs": [
    {
     "data": {
      "text/plain": [
       "8.321798680137388"
      ]
     },
     "execution_count": 69,
     "metadata": {},
     "output_type": "execute_result"
    }
   ],
   "source": [
    "t = mean / SE\n",
    "t"
   ]
  },
  {
   "cell_type": "markdown",
   "metadata": {},
   "source": [
    "### 5.\n",
    "Looking at the t-table, if 8.32 were to be on it, it would be at a very very low confidence level given that our degrees of freedom are at infinity. This means it is fairly unlikely this t-value would happen by random chance.\n",
    "\n",
    "### 6.\n",
    "My conclusion is that fathers are not taller than sons. All three methods were consistent with each other."
   ]
  },
  {
   "cell_type": "code",
   "execution_count": null,
   "metadata": {},
   "outputs": [],
   "source": []
  }
 ],
 "metadata": {
  "kernelspec": {
   "display_name": "Python 3",
   "language": "python",
   "name": "python3"
  },
  "language_info": {
   "codemirror_mode": {
    "name": "ipython",
    "version": 3
   },
   "file_extension": ".py",
   "mimetype": "text/x-python",
   "name": "python",
   "nbconvert_exporter": "python",
   "pygments_lexer": "ipython3",
   "version": "3.8.3"
  }
 },
 "nbformat": 4,
 "nbformat_minor": 4
}
